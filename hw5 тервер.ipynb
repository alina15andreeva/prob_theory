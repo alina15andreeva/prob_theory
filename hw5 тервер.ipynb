{
 "cells": [
  {
   "cell_type": "markdown",
   "id": "1ad27026",
   "metadata": {},
   "source": [
    "#### Задача 1\n",
    "Когда используется критерий Стьюдента, а когда Z –критерий?"
   ]
  },
  {
   "cell_type": "markdown",
   "id": "1dc4439b",
   "metadata": {},
   "source": [
    "1. Информация о данных:\n",
    "\n",
    "- Критерий Стьюдента используется, когда известны только выборочные данные (среднее значение, стандартное отклонение и размер выборки);\n",
    "- Z-критерий применяется, когда известны параметры генеральной совокупности (среднее значение и стандартное отклонение).\n",
    "\n",
    "2. Размер выборки:\n",
    "\n",
    "- Критерий Стьюдента рекомендуется при малом размере выборки (обычно менее 30);\n",
    "- Z-критерий применяется при большом размере выборки (обычно более 30).\n",
    "\n",
    "3. Предположения о распределении данных:\n",
    "\n",
    "- Критерий Стьюдента предполагает, что данные имеют нормальное распределение или приближенно к нему;\n",
    "- Z-критерий основан на аппроксимации данных нормальным распределением."
   ]
  },
  {
   "cell_type": "markdown",
   "id": "69c66573",
   "metadata": {},
   "source": [
    "#### Задача 2\n",
    "\n",
    "Проведите тест гипотезы. Утверждается, что шарики для подшипников, изготовленные автоматическим станком, имеют средний диаметр 17 мм. Используя односторонний критерий с α=0,05, проверить эту гипотезу, если в выборке из n=100 шариков средний диаметр оказался равным 17.5 мм, а дисперсия известна и равна 4 кв. мм."
   ]
  },
  {
   "cell_type": "markdown",
   "id": "11114fcf",
   "metadata": {},
   "source": [
    "H0: x = mu\n",
    "\n",
    "H1: x > mu\n",
    "\n",
    "Используем Z-критерий."
   ]
  },
  {
   "cell_type": "code",
   "execution_count": 2,
   "id": "5ef19e86",
   "metadata": {},
   "outputs": [
    {
     "name": "stdout",
     "output_type": "stream",
     "text": [
      "2.5\n"
     ]
    }
   ],
   "source": [
    "import numpy as np\n",
    "\n",
    "x = 17.5\n",
    "mu = 17\n",
    "std = np.sqrt(4)\n",
    "n = 100\n",
    "\n",
    "z = (x - mu) / (std / np.sqrt(n))\n",
    "print(z)"
   ]
  },
  {
   "cell_type": "code",
   "execution_count": 6,
   "id": "f74c70aa",
   "metadata": {},
   "outputs": [
    {
     "data": {
      "text/plain": [
       "1.6448536269514722"
      ]
     },
     "execution_count": 6,
     "metadata": {},
     "output_type": "execute_result"
    }
   ],
   "source": [
    "from scipy import stats\n",
    "\n",
    "z_table = stats.norm.ppf(1 - 0.05)\n",
    "z_table"
   ]
  },
  {
   "cell_type": "markdown",
   "id": "caf40546",
   "metadata": {},
   "source": [
    "z > z_table => Принимаем гипотезу H1."
   ]
  },
  {
   "cell_type": "markdown",
   "id": "e632172d",
   "metadata": {},
   "source": [
    "#### Задача 3\n",
    "\n",
    "Проведите тест гипотезы. Продавец утверждает, что средний вес пачки печенья составляет 200 г. Из партии извлечена выборка из 10 пачек. Вес каждой пачки составляет: 202, 203, 199, 197, 195, 201, 200, 204, 194, 190. Известно, что их веса распределены нормально. Верно ли утверждение продавца, если учитывать, что доверительная вероятность равна 99%? (Провести двусторонний тест.)"
   ]
  },
  {
   "cell_type": "markdown",
   "id": "5fe5e850",
   "metadata": {},
   "source": [
    "H0: x = mu\n",
    "\n",
    "H1: x != mu\n",
    "\n",
    "Используем t-критерий."
   ]
  },
  {
   "cell_type": "code",
   "execution_count": 7,
   "id": "67140527",
   "metadata": {},
   "outputs": [
    {
     "data": {
      "text/plain": [
       "-1.0651074037450896"
      ]
     },
     "execution_count": 7,
     "metadata": {},
     "output_type": "execute_result"
    }
   ],
   "source": [
    "x = np.array([202, 203, 199, 197, 195, 201, 200, 204, 194, 190])\n",
    "mu = 200\n",
    "\n",
    "t = (np.mean(x) - mu) / (np.std(x, ddof=1) / np.sqrt(len(x)))\n",
    "t"
   ]
  },
  {
   "cell_type": "code",
   "execution_count": 13,
   "id": "292fde10",
   "metadata": {},
   "outputs": [
    {
     "name": "stdout",
     "output_type": "stream",
     "text": [
      "-3.24983554401537\n",
      "3.2498355440153697\n"
     ]
    }
   ],
   "source": [
    "t_crit_left = stats.t.ppf(0.005, len(x) - 1)\n",
    "print(t_crit_left)\n",
    "t_crit_right = stats.t.ppf(1-0.005, len(x) - 1)\n",
    "print(t_crit_right)"
   ]
  },
  {
   "cell_type": "markdown",
   "id": "3853fa7c",
   "metadata": {},
   "source": [
    "Принимаем гипотезу H0."
   ]
  },
  {
   "cell_type": "markdown",
   "id": "6cb46f2c",
   "metadata": {},
   "source": [
    "#### Задача 4\n",
    "\n",
    "Есть ли статистически значимые различия в росте дочерей? Рост матерей 172, 177, 158, 170, 178,175, 164, 160, 169 Рост взрослых дочерей: 173, 175, 162, 174, 175, 168, 155, 170, 160."
   ]
  },
  {
   "cell_type": "markdown",
   "id": "03555fb2",
   "metadata": {},
   "source": [
    "H0: x = y\n",
    "\n",
    "H1: x != y\n",
    "\n",
    "Используем t-критерий."
   ]
  },
  {
   "cell_type": "code",
   "execution_count": 14,
   "id": "0dca71e0",
   "metadata": {},
   "outputs": [
    {
     "name": "stdout",
     "output_type": "stream",
     "text": [
      "Ttest_indResult(statistic=0.35581195161541973, pvalue=0.7266292679160495)\n"
     ]
    }
   ],
   "source": [
    "x = np.array([172, 177, 158, 170, 178,175, 164, 160, 169])\n",
    "y = np.array([173, 175, 162, 174, 175, 168, 155, 170, 160])\n",
    "print(stats.ttest_ind(x, y))"
   ]
  },
  {
   "cell_type": "code",
   "execution_count": 18,
   "id": "a20b2df4",
   "metadata": {},
   "outputs": [
    {
     "name": "stdout",
     "output_type": "stream",
     "text": [
      "2.1199052992210112\n",
      "-2.1199052992210112\n"
     ]
    }
   ],
   "source": [
    "t_crit_right = stats.t.ppf(0.975, (len(x) + len(y)) - 2)\n",
    "print(t_crit_right)\n",
    "t_crit_left = stats.t.ppf(1-0.975, (len(x) + len(y)) - 2)\n",
    "print(t_crit_left)"
   ]
  },
  {
   "cell_type": "markdown",
   "id": "2de1feee",
   "metadata": {},
   "source": [
    "Принимаем гипотезу H0."
   ]
  }
 ],
 "metadata": {
  "kernelspec": {
   "display_name": "Python 3 (ipykernel)",
   "language": "python",
   "name": "python3"
  },
  "language_info": {
   "codemirror_mode": {
    "name": "ipython",
    "version": 3
   },
   "file_extension": ".py",
   "mimetype": "text/x-python",
   "name": "python",
   "nbconvert_exporter": "python",
   "pygments_lexer": "ipython3",
   "version": "3.10.9"
  }
 },
 "nbformat": 4,
 "nbformat_minor": 5
}
