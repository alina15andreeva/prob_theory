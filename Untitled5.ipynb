{
 "cells": [
  {
   "cell_type": "markdown",
   "id": "a87e672d",
   "metadata": {},
   "source": [
    "#### Задача 1\n",
    "\n",
    "Даны две  независимые выборки. Не соблюдается условие нормальности"
   ]
  },
  {
   "cell_type": "code",
   "execution_count": 3,
   "id": "3453150f",
   "metadata": {},
   "outputs": [
    {
     "name": "stdout",
     "output_type": "stream",
     "text": [
      "MannwhitneyuResult(statistic=8.0, pvalue=0.6285714285714286)\n"
     ]
    }
   ],
   "source": [
    "import numpy as np\n",
    "import scipy.stats as stats\n",
    "\n",
    "x1 = np.array([380,420, 290])\n",
    "y1 = np.array([140,360,200,900])\n",
    "\n",
    "print(stats.mannwhitneyu(x1, y1))"
   ]
  },
  {
   "cell_type": "markdown",
   "id": "56946211",
   "metadata": {},
   "source": [
    "Если мы примем a = 0.05, то:\n",
    "\n",
    "p > a, следовательно мы принимаем нулевую гипотезу о том, что статистически значимых различий между двумя независимыми выборками не обнаружено."
   ]
  },
  {
   "cell_type": "markdown",
   "id": "9a57a169",
   "metadata": {},
   "source": [
    "#### Задача 2\n",
    "\n",
    "Исследовалось влияние препарата на уровень давления пациентов. Сначала измерялось давление до приема препарата, потом через 10 минут и через 30 минут. Есть ли статистически значимые различия?"
   ]
  },
  {
   "cell_type": "code",
   "execution_count": 4,
   "id": "09cd8899",
   "metadata": {},
   "outputs": [
    {
     "name": "stdout",
     "output_type": "stream",
     "text": [
      "FriedmanchisquareResult(statistic=9.578947368421062, pvalue=0.00831683351100441)\n"
     ]
    }
   ],
   "source": [
    "x1 = np.array([150, 160, 165, 145, 155])\n",
    "x2 = np.array([140, 155, 150,  130, 135])\n",
    "x3 = np.array([130, 130, 120, 130, 125])\n",
    "\n",
    "print(stats.friedmanchisquare(x1, x2, x3))"
   ]
  },
  {
   "cell_type": "markdown",
   "id": "a8a80253",
   "metadata": {},
   "source": [
    "Если мы примем a = 0.05, то:\n",
    "\n",
    "p < a, следовательно мы принимаем альтернативную гипотезу о том, что статистически значимые различия между двумя выборками до приема препарата и после обнаружены."
   ]
  },
  {
   "cell_type": "markdown",
   "id": "ff55431f",
   "metadata": {},
   "source": [
    "#### Задача 3\n",
    "\n",
    "Сравните 1 и 2 е измерения, предполагая, что 3го измерения через 30 минут не было."
   ]
  },
  {
   "cell_type": "code",
   "execution_count": 5,
   "id": "c9f9b881",
   "metadata": {},
   "outputs": [
    {
     "name": "stdout",
     "output_type": "stream",
     "text": [
      "WilcoxonResult(statistic=0.0, pvalue=0.0625)\n"
     ]
    }
   ],
   "source": [
    "x1 = np.array([150, 160, 165, 145, 155])\n",
    "x2 = np.array([140, 155, 150,  130, 135])\n",
    "\n",
    "print(stats.wilcoxon(x1, x2))"
   ]
  },
  {
   "cell_type": "markdown",
   "id": "7011b3e5",
   "metadata": {},
   "source": [
    "Если мы примем a = 0.05, то:\n",
    "\n",
    "p > a, следовательно мы принимаем нулевую гипотезу о том, что статистически значимых различий между двумя выборками не обнаружено до приема препарата и после."
   ]
  },
  {
   "cell_type": "markdown",
   "id": "fc5a8cc9",
   "metadata": {},
   "source": [
    "#### Задача 4\n",
    "\n",
    "Даны 3 группы  учеников плавания."
   ]
  },
  {
   "cell_type": "code",
   "execution_count": 6,
   "id": "ed5bc7ff",
   "metadata": {},
   "outputs": [
    {
     "name": "stdout",
     "output_type": "stream",
     "text": [
      "KruskalResult(statistic=5.465564058257224, pvalue=0.0650380998590494)\n"
     ]
    }
   ],
   "source": [
    "x1 = np.array([56, 60, 62, 55, 71, 67, 59, 58, 64, 67])\n",
    "x2 = np.array([57, 58, 69, 48, 72, 70, 68, 71, 50, 53])\n",
    "x3 = np.array([57, 67, 49, 48, 47, 55, 66, 51, 54])\n",
    "\n",
    "print(stats.kruskal (x1, x2, x3))"
   ]
  },
  {
   "cell_type": "markdown",
   "id": "9d8daa12",
   "metadata": {},
   "source": [
    "Если мы примем a = 0.05, то:\n",
    "\n",
    "p > a, следовательно мы принимаем нулевую гипотезу о том, что статистически значимых различий между двумя независимыми выборками не обнаружено."
   ]
  },
  {
   "cell_type": "markdown",
   "id": "0f7320bc",
   "metadata": {},
   "source": [
    "#### Задача 5\n",
    "\n",
    "Заявляется, что партия изготавливается со средним арифметическим 2,5 см. Проверить данную гипотезу, если известно, что размеры изделий подчинены нормальному закону распределения. Объем выборки 10, уровень статистической значимости 5%"
   ]
  },
  {
   "cell_type": "markdown",
   "id": "34463bd2",
   "metadata": {},
   "source": [
    "H0: x = mu\n",
    "\n",
    "H1: x != mu\n",
    "\n",
    "Используем t-критерий."
   ]
  },
  {
   "cell_type": "code",
   "execution_count": 8,
   "id": "356d5283",
   "metadata": {},
   "outputs": [
    {
     "data": {
      "text/plain": [
       "0.5630613661802959"
      ]
     },
     "execution_count": 8,
     "metadata": {},
     "output_type": "execute_result"
    }
   ],
   "source": [
    "x = np.array([2.51, 2.35, 2.74, 2.56, 2.40, 2.36, 2.65, 2.7, 2.67, 2.34])\n",
    "mu = 2.5\n",
    "\n",
    "t = (np.mean(x) - mu) / (np.std(x, ddof=1) / np.sqrt(len(x)))\n",
    "t"
   ]
  },
  {
   "cell_type": "code",
   "execution_count": 9,
   "id": "87759da3",
   "metadata": {},
   "outputs": [
    {
     "name": "stdout",
     "output_type": "stream",
     "text": [
      "-2.262157162740992\n",
      "2.2621571627409915\n"
     ]
    }
   ],
   "source": [
    "t_crit_left = stats.t.ppf(0.025, len(x) - 1)\n",
    "print(t_crit_left)\n",
    "t_crit_right = stats.t.ppf(1-0.025, len(x) - 1)\n",
    "print(t_crit_right)"
   ]
  },
  {
   "cell_type": "markdown",
   "id": "dbaaae32",
   "metadata": {},
   "source": [
    "Принимаем гипотезу H0."
   ]
  }
 ],
 "metadata": {
  "kernelspec": {
   "display_name": "Python 3 (ipykernel)",
   "language": "python",
   "name": "python3"
  },
  "language_info": {
   "codemirror_mode": {
    "name": "ipython",
    "version": 3
   },
   "file_extension": ".py",
   "mimetype": "text/x-python",
   "name": "python",
   "nbconvert_exporter": "python",
   "pygments_lexer": "ipython3",
   "version": "3.10.9"
  }
 },
 "nbformat": 4,
 "nbformat_minor": 5
}
