{
 "cells": [
  {
   "cell_type": "markdown",
   "id": "2db5e092",
   "metadata": {},
   "source": [
    "#### Задача 1\n",
    "\n",
    "Провести дисперсионный анализ для определения того, есть ли различия среднего роста среди взрослых футболистов, хоккеистов и штангистов. Даны значения роста в трех группах случайно выбранных спортсменов: Футболисты: 173, 175, 180, 178, 177, 185, 183, 182. Хоккеисты: 177, 179, 180, 188, 177, 172, 171, 184, 180. Штангисты: 172, 173, 169, 177, 166, 180, 178, 177, 172, 166, 170. "
   ]
  },
  {
   "cell_type": "code",
   "execution_count": 1,
   "id": "aa328f64",
   "metadata": {},
   "outputs": [
    {
     "name": "stdout",
     "output_type": "stream",
     "text": [
      "ShapiroResult(statistic=0.9775082468986511, pvalue=0.9495404362678528)\n",
      "ShapiroResult(statistic=0.9579196572303772, pvalue=0.7763139009475708)\n",
      "ShapiroResult(statistic=0.9386808276176453, pvalue=0.5051165223121643)\n"
     ]
    }
   ],
   "source": [
    "import numpy as np\n",
    "from scipy import stats\n",
    "\n",
    "a = np.array([173, 175, 180, 178, 177, 185, 183, 182])\n",
    "b = np.array([177, 179, 180, 188, 177, 172, 171, 184, 180])\n",
    "c = np.array([172, 173, 169, 177, 166, 180, 178, 177, 172, 166, 170])\n",
    "\n",
    "print(stats.shapiro(a))\n",
    "print(stats.shapiro(b))\n",
    "print(stats.shapiro(c))"
   ]
  },
  {
   "cell_type": "markdown",
   "id": "c71b3a79",
   "metadata": {},
   "source": [
    "Нормальное распределение"
   ]
  },
  {
   "cell_type": "code",
   "execution_count": 3,
   "id": "aea0ff04",
   "metadata": {},
   "outputs": [
    {
     "data": {
      "text/plain": [
       "BartlettResult(statistic=0.4640521043406442, pvalue=0.7929254656083131)"
      ]
     },
     "execution_count": 3,
     "metadata": {},
     "output_type": "execute_result"
    }
   ],
   "source": [
    "from scipy.stats import bartlett\n",
    "\n",
    "stats.bartlett(a, b, c)"
   ]
  },
  {
   "cell_type": "markdown",
   "id": "310228b5",
   "metadata": {},
   "source": [
    "Диспресии однородны."
   ]
  },
  {
   "cell_type": "code",
   "execution_count": 4,
   "id": "8e647bf8",
   "metadata": {},
   "outputs": [
    {
     "data": {
      "text/plain": [
       "F_onewayResult(statistic=5.500053450812596, pvalue=0.010482206918698694)"
      ]
     },
     "execution_count": 4,
     "metadata": {},
     "output_type": "execute_result"
    }
   ],
   "source": [
    "stats.f_oneway(a, b, c)"
   ]
  },
  {
   "cell_type": "markdown",
   "id": "660c6b26",
   "metadata": {},
   "source": [
    "Статистически значимые различия обнаружены."
   ]
  },
  {
   "cell_type": "code",
   "execution_count": 5,
   "id": "a80ffbd6",
   "metadata": {},
   "outputs": [
    {
     "name": "stdout",
     "output_type": "stream",
     "text": [
      "Tukey's HSD Pairwise Group Comparisons (95.0% Confidence Interval)\n",
      "Comparison  Statistic  p-value  Lower CI  Upper CI\n",
      " (0 - 1)      0.458     0.979    -5.357     6.273\n",
      " (0 - 2)      6.398     0.022     0.837    11.958\n",
      " (1 - 0)     -0.458     0.979    -6.273     5.357\n",
      " (1 - 2)      5.939     0.028     0.561    11.318\n",
      " (2 - 0)     -6.398     0.022   -11.958    -0.837\n",
      " (2 - 1)     -5.939     0.028   -11.318    -0.561\n",
      "\n"
     ]
    }
   ],
   "source": [
    "print(stats.tukey_hsd(a, b, c))"
   ]
  },
  {
   "cell_type": "markdown",
   "id": "ff2d8531",
   "metadata": {},
   "source": [
    "Отличия обнаружены между группами a и c и b и c."
   ]
  }
 ],
 "metadata": {
  "kernelspec": {
   "display_name": "Python 3 (ipykernel)",
   "language": "python",
   "name": "python3"
  },
  "language_info": {
   "codemirror_mode": {
    "name": "ipython",
    "version": 3
   },
   "file_extension": ".py",
   "mimetype": "text/x-python",
   "name": "python",
   "nbconvert_exporter": "python",
   "pygments_lexer": "ipython3",
   "version": "3.10.9"
  }
 },
 "nbformat": 4,
 "nbformat_minor": 5
}
